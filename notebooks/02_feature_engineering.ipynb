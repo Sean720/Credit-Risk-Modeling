{
 "cells": [
  {
   "cell_type": "markdown",
   "id": "c1e1d82c-ae1f-4c02-8c40-e547e920fad9",
   "metadata": {},
   "source": [
    "# LendingClub Loan Default Prediction - Feature Engineering\n",
    "\n",
    "## Objective\n",
    "Transform cleaned data into machine-learning ready features through engineering and preprocessing.\n",
    "\n",
    "## Steps\n",
    "1. Handle missing values\n",
    "2. Create new informative features  \n",
    "3. Encode categorical variables\n",
    "4. Remove data leakage columns\n",
    "5. Prepare final dataset for modeling"
   ]
  },
  {
   "cell_type": "code",
   "execution_count": 1,
   "id": "39fb4bdb-1196-490f-9733-afada3a7d5ba",
   "metadata": {},
   "outputs": [
    {
     "name": "stdout",
     "output_type": "stream",
     "text": [
      "Loaded data shape: (44005, 95)\n"
     ]
    }
   ],
   "source": [
    "# Import libraries\n",
    "import pandas as pd\n",
    "import numpy as np\n",
    "import matplotlib.pyplot as plt\n",
    "import seaborn as sns\n",
    "from datetime import datetime\n",
    "import warnings\n",
    "warnings.filterwarnings('ignore')\n",
    "\n",
    "%matplotlib inline\n",
    "\n",
    "# Load cleaned data from previous step\n",
    "df = pd.read_csv('../data/processed/01_cleaned_data.csv')\n",
    "print(f\"Loaded data shape: {df.shape}\")"
   ]
  },
  {
   "cell_type": "markdown",
   "id": "4c3945df-fa4b-4a6d-a889-dd416f9f76c3",
   "metadata": {},
   "source": [
    "## 🛠️ Feature Engineering Strategy\n",
    "\n",
    "**Goal:** Transform raw data into meaningful features for machine learning\n",
    "\n",
    "**Key Steps:**\n",
    "1. Handle missing values appropriately\n",
    "2. Create new informative features\n",
    "3. Encode categorical variables\n",
    "4. Remove data leakage columns\n",
    "\n",
    "**Why This Matters:**\n",
    "- Better features = better model performance\n",
    "- Prevents data leakage (using future information)\n",
    "- Makes categorical data understandable to algorithms"
   ]
  },
  {
   "cell_type": "code",
   "execution_count": 3,
   "id": "24e2acc6-216f-41af-a400-5ebcd321882c",
   "metadata": {},
   "outputs": [
    {
     "name": "stdout",
     "output_type": "stream",
     "text": [
      "Numerical columns: 70\n",
      "Categorical columns: 23\n"
     ]
    }
   ],
   "source": [
    "# Identify column types\n",
    "numerical_cols = df.select_dtypes(include=['int64', 'float64']).columns.tolist()\n",
    "categorical_cols = df.select_dtypes(include=['object']).columns.tolist()\n",
    "\n",
    "# Remove target and ID columns\n",
    "if 'loan_default' in numerical_cols:\n",
    "    numerical_cols.remove('loan_default')\n",
    "if 'id' in numerical_cols:\n",
    "    numerical_cols.remove('id')\n",
    "if 'id' in categorical_cols:\n",
    "    categorical_cols.remove('id')\n",
    "\n",
    "print(f\"Numerical columns: {len(numerical_cols)}\")\n",
    "print(f\"Categorical columns: {len(categorical_cols)}\")"
   ]
  },
  {
   "cell_type": "markdown",
   "id": "5646bfd5-0e8f-4a02-92fb-8ed44bd28fa4",
   "metadata": {},
   "source": [
    "## 🔍 Handling Missing Values\n",
    "\n",
    "**Strategy:**\n",
    "- Numerical columns: Fill with median (robust to outliers)\n",
    "- Categorical columns: Fill with 'MISSING' as a new category\n",
    "\n",
    "**Why This Approach:**\n",
    "- Preserves data structure without distorting distributions\n",
    "- 'MISSING' can sometimes be informative itself\n",
    "- Better than dropping rows and losing data"
   ]
  },
  {
   "cell_type": "code",
   "execution_count": 4,
   "id": "f81f14be-3efa-4446-ae2d-6f0d4adf693c",
   "metadata": {},
   "outputs": [
    {
     "name": "stdout",
     "output_type": "stream",
     "text": [
      "Handling missing values for numerical columns...\n",
      "Filled missing values in dti with median\n",
      "Filled missing values in mths_since_last_delinq with median\n",
      "Filled missing values in revol_util with median\n",
      "Filled missing values in bc_open_to_buy with median\n",
      "Filled missing values in bc_util with median\n",
      "Filled missing values in mo_sin_old_il_acct with median\n",
      "Filled missing values in mths_since_recent_bc with median\n",
      "Filled missing values in mths_since_recent_inq with median\n",
      "Filled missing values in num_tl_120dpd_2m with median\n",
      "Filled missing values in percent_bc_gt_75 with median\n",
      "\n",
      "Handling missing values for categorical columns...\n",
      "Filled missing values in emp_title with 'MISSING'\n",
      "Filled missing values in emp_length with 'MISSING'\n",
      "Filled missing values in title with 'MISSING'\n",
      "Filled missing values in last_pymnt_d with 'MISSING'\n",
      "Filled missing values in last_credit_pull_d with 'MISSING'\n"
     ]
    }
   ],
   "source": [
    "# Handle missing values for numerical columns\n",
    "print(\"Handling missing values for numerical columns...\")\n",
    "for col in numerical_cols:\n",
    "    if df[col].isnull().sum() > 0:\n",
    "        df[col].fillna(df[col].median(), inplace=True)\n",
    "        print(f\"Filled missing values in {col} with median\")\n",
    "\n",
    "# Handle missing values for categorical columns\n",
    "print(\"\\nHandling missing values for categorical columns...\")\n",
    "for col in categorical_cols:\n",
    "    if df[col].isnull().sum() > 0:\n",
    "        df[col].fillna('MISSING', inplace=True)\n",
    "        print(f\"Filled missing values in {col} with 'MISSING'\")"
   ]
  },
  {
   "cell_type": "markdown",
   "id": "6e650527-8640-4b50-8eeb-f47f2acf7595",
   "metadata": {},
   "source": [
    "## 🎯 Creating New Features\n",
    "\n",
    "**Credit Age:** From `earliest_cr_line` → How long someone has had credit  \n",
    "**Debt Consolidation Flag:** If loan purpose is debt consolidation → Higher risk indicator  \n",
    "**Income-to-Loan Ratio:** Annual income divided by loan amount → Affordability measure\n",
    "\n",
    "**Why Feature Engineering:**\n",
    "- Domain knowledge improves model understanding\n",
    "- New features can capture patterns raw data misses\n",
    "- Helps model understand financial relationships"
   ]
  },
  {
   "cell_type": "code",
   "execution_count": 5,
   "id": "81f9731a-3076-4f03-8ad0-044192748d32",
   "metadata": {},
   "outputs": [
    {
     "name": "stdout",
     "output_type": "stream",
     "text": [
      "Creating new features...\n",
      "Created 'credit_age_years' feature\n",
      "Created 'is_debt_consolidation' feature\n",
      "Created 'income_to_loan_ratio' feature\n"
     ]
    }
   ],
   "source": [
    "# Feature Engineering: Create new features\n",
    "print(\"Creating new features...\")\n",
    "\n",
    "# 1. Credit age (if earliest_cr_line exists)\n",
    "if 'earliest_cr_line' in df.columns:\n",
    "    try:\n",
    "        # Convert to datetime\n",
    "        df['earliest_cr_line_dt'] = pd.to_datetime(df['earliest_cr_line'], format='%b-%y', errors='coerce')\n",
    "        # Calculate credit age in years\n",
    "        df['credit_age_years'] = (pd.Timestamp.now() - df['earliest_cr_line_dt']).dt.days / 365.25\n",
    "        df['credit_age_years'] = df['credit_age_years'].fillna(df['credit_age_years'].median())\n",
    "        print(\"Created 'credit_age_years' feature\")\n",
    "    except:\n",
    "        print(\"Could not create credit_age_years feature\")\n",
    "\n",
    "# 2. Debt consolidation flag\n",
    "if 'purpose' in df.columns:\n",
    "    df['is_debt_consolidation'] = (df['purpose'] == 'debt_consolidation').astype(int)\n",
    "    print(\"Created 'is_debt_consolidation' feature\")\n",
    "\n",
    "# 3. Income to loan ratio\n",
    "if 'annual_inc' in df.columns and 'loan_amnt' in df.columns:\n",
    "    df['income_to_loan_ratio'] = df['annual_inc'] / (df['loan_amnt'] + 1)  # +1 to avoid division by zero\n",
    "    print(\"Created 'income_to_loan_ratio' feature\")"
   ]
  },
  {
   "cell_type": "markdown",
   "id": "6f706e50-3722-4e9a-a141-e6bb99306145",
   "metadata": {},
   "source": [
    "## 🔄 Encoding Categorical Variables\n",
    "\n",
    "**Method:** One-Hot Encoding for low-cardinality categories (<10 unique values)\n",
    "\n",
    "**Why One-Hot Encoding:**\n",
    "- Converts categories to numerical format algorithms understand\n",
    "- Prevents artificial ordering (no \"high > medium > low\" assumption)\n",
    "- Works well with most machine learning models\n",
    "\n",
    "**High-cardinality features** (like ZIP codes) handled separately to avoid too many columns"
   ]
  },
  {
   "cell_type": "code",
   "execution_count": 6,
   "id": "ecd10e10-0451-4e9c-a2b2-726d680279ef",
   "metadata": {},
   "outputs": [
    {
     "name": "stdout",
     "output_type": "stream",
     "text": [
      "Encoding categorical variables...\n",
      "Encoding 12 categorical columns with low cardinality\n",
      "Shape after encoding: (44005, 104)\n"
     ]
    }
   ],
   "source": [
    "# Encode categorical variables\n",
    "print(\"Encoding categorical variables...\")\n",
    "\n",
    "# Select categorical columns with low cardinality (<10 unique values)\n",
    "low_cardinality_cols = []\n",
    "for col in categorical_cols:\n",
    "    if df[col].nunique() < 10:\n",
    "        low_cardinality_cols.append(col)\n",
    "\n",
    "print(f\"Encoding {len(low_cardinality_cols)} categorical columns with low cardinality\")\n",
    "\n",
    "# One-hot encoding\n",
    "df_encoded = pd.get_dummies(df, columns=low_cardinality_cols, drop_first=True, dtype=int)\n",
    "print(f\"Shape after encoding: {df_encoded.shape}\")"
   ]
  },
  {
   "cell_type": "markdown",
   "id": "ace42d41-de44-4570-8ec5-467a508efb85",
   "metadata": {},
   "source": [
    "## 🚫 Preventing Data Leakage\n",
    "\n",
    "**Removing columns that wouldn't be known at loan application time:**\n",
    "- Payment history columns (`total_pymnt`, `recoveries`)\n",
    "- Collection-related fields\n",
    "- Future-dated information\n",
    "\n",
    "**Critical Importance:**\n",
    "- Using future information creates unrealistically accurate models\n",
    "- Real-world deployment would fail without this step\n",
    "- Ensures model learns from application-time data only"
   ]
  },
  {
   "cell_type": "code",
   "execution_count": 7,
   "id": "e580d624-339b-4b91-a60b-d2acfbdd1f3c",
   "metadata": {},
   "outputs": [
    {
     "name": "stdout",
     "output_type": "stream",
     "text": [
      "Dropping 11 potential leakage columns: ['recoveries', 'collection_recovery_fee', 'total_pymnt', 'total_pymnt_inv', 'total_rec_prncp', 'total_rec_int', 'total_rec_late_fee', 'last_pymnt_d', 'last_pymnt_amnt', 'last_credit_pull_d', 'collections_12_mths_ex_med']\n",
      "Dropping 5 non-feature columns: ['id', 'url', 'title', 'earliest_cr_line', 'earliest_cr_line_dt']\n",
      "Final feature matrix shape: (44005, 87)\n",
      "Target vector shape: (44005,)\n"
     ]
    }
   ],
   "source": [
    "# Identify and drop columns that cause data leakage\n",
    "leakage_indicators = ['recoveries', 'collection_recovery_fee', 'total_pymnt', \n",
    "                     'total_pymnt_inv', 'total_rec_prncp', 'total_rec_int', \n",
    "                     'total_rec_late_fee', 'last_pymnt_d', 'last_pymnt_amnt',\n",
    "                     'last_credit_pull_d', 'collections_12_mths_ex_med']\n",
    "\n",
    "leakage_cols = [col for col in leakage_indicators if col in df_encoded.columns]\n",
    "print(f\"Dropping {len(leakage_cols)} potential leakage columns: {leakage_cols}\")\n",
    "\n",
    "# Also drop other non-feature columns\n",
    "non_feature_cols = ['id', 'loan_status', 'issue_d', 'url', 'desc', 'title', 'earliest_cr_line', 'earliest_cr_line_dt']\n",
    "non_feature_cols = [col for col in non_feature_cols if col in df_encoded.columns]\n",
    "print(f\"Dropping {len(non_feature_cols)} non-feature columns: {non_feature_cols}\")\n",
    "\n",
    "all_cols_to_drop = leakage_cols + non_feature_cols\n",
    "X = df_encoded.drop(columns=all_cols_to_drop + ['loan_default'])\n",
    "y = df_encoded['loan_default']\n",
    "\n",
    "print(f\"Final feature matrix shape: {X.shape}\")\n",
    "print(f\"Target vector shape: {y.shape}\")"
   ]
  },
  {
   "cell_type": "markdown",
   "id": "55bfd7f0-4f6e-4d91-b790-af6107f2bdde",
   "metadata": {},
   "source": [
    "## 💾 Saving Processed Data\n",
    "\n",
    "**Output:**\n",
    "- `02_processed_features.csv`: Final feature matrix (X)\n",
    "- `02_processed_target.csv`: Target variable (y)\n",
    "\n",
    "**Ready for modeling:** Clean, encoded, and leakage-free data for machine learning algorithms"
   ]
  },
  {
   "cell_type": "code",
   "execution_count": 8,
   "id": "6a5d76cb-03a6-4a6d-8635-98785d8f25cd",
   "metadata": {},
   "outputs": [
    {
     "name": "stdout",
     "output_type": "stream",
     "text": [
      "Processed features and target saved to data/processed/\n"
     ]
    }
   ],
   "source": [
    "# Save the processed data\n",
    "X.to_csv('../data/processed/02_processed_features.csv', index=False)\n",
    "y.to_csv('../data/processed/02_processed_target.csv', index=False)\n",
    "print(\"Processed features and target saved to data/processed/\")"
   ]
  }
 ],
 "metadata": {
  "kernelspec": {
   "display_name": "Python 3 (ipykernel)",
   "language": "python",
   "name": "python3"
  },
  "language_info": {
   "codemirror_mode": {
    "name": "ipython",
    "version": 3
   },
   "file_extension": ".py",
   "mimetype": "text/x-python",
   "name": "python",
   "nbconvert_exporter": "python",
   "pygments_lexer": "ipython3",
   "version": "3.12.3"
  }
 },
 "nbformat": 4,
 "nbformat_minor": 5
}
