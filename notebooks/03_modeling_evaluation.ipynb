{
 "cells": [
  {
   "cell_type": "code",
   "execution_count": null,
   "id": "6a47261f-2ee8-4dba-859d-6040367510b3",
   "metadata": {},
   "outputs": [],
   "source": []
  }
 ],
 "metadata": {
  "kernelspec": {
   "display_name": "",
   "name": ""
  },
  "language_info": {
   "name": ""
  }
 },
 "nbformat": 4,
 "nbformat_minor": 5
}
